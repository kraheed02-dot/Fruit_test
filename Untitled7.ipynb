{
  "nbformat": 4,
  "nbformat_minor": 0,
  "metadata": {
    "colab": {
      "provenance": [],
      "authorship_tag": "ABX9TyNL/7dNrxc7TexDZd72lqcg",
      "include_colab_link": true
    },
    "kernelspec": {
      "name": "python3",
      "display_name": "Python 3"
    },
    "language_info": {
      "name": "python"
    }
  },
  "cells": [
    {
      "cell_type": "markdown",
      "metadata": {
        "id": "view-in-github",
        "colab_type": "text"
      },
      "source": [
        "<a href=\"https://colab.research.google.com/github/kraheed02-dot/Fruit_test/blob/main/Untitled7.ipynb\" target=\"_parent\"><img src=\"https://colab.research.google.com/assets/colab-badge.svg\" alt=\"Open In Colab\"/></a>"
      ]
    },
    {
      "cell_type": "code",
      "execution_count": 1,
      "metadata": {
        "colab": {
          "base_uri": "https://localhost:8080/"
        },
        "id": "jwvsVIfP9O1n",
        "outputId": "19abaf66-73dd-4ce2-8aab-781ed0569f1c"
      },
      "outputs": [
        {
          "output_type": "stream",
          "name": "stdout",
          "text": [
            "Accuracy: 1.0\n"
          ]
        }
      ],
      "source": [
        "from sklearn.datasets import load_iris\n",
        "from sklearn.model_selection import train_test_split\n",
        "from sklearn.neighbors import KNeighborsClassifier\n",
        "from sklearn.metrics import accuracy_score\n",
        "\n",
        "# 1. Dataset load karo\n",
        "data = load_iris()\n",
        "X = data.data  # features\n",
        "y = data.target  # labels\n",
        "\n",
        "# 2. Data split karo: 80% training, 20% testing\n",
        "X_train, X_test, y_train, y_test = train_test_split(X, y, test_size=0.2, random_state=42)\n",
        "\n",
        "# 3. Model define karo (K = 3 neighbors)\n",
        "model = KNeighborsClassifier(n_neighbors=3)\n",
        "\n",
        "# 4. Train karo\n",
        "model.fit(X_train, y_train)\n",
        "\n",
        "# 5. Predict karo\n",
        "y_pred = model.predict(X_test)\n",
        "\n",
        "# 6. Accuracy check karo\n",
        "accuracy = accuracy_score(y_test, y_pred)\n",
        "print(\"Accuracy:\", accuracy)\n"
      ]
    },
    {
      "cell_type": "code",
      "source": [
        "# Step 1: Import Libraries\n",
        "from sklearn.neighbors import KNeighborsClassifier\n",
        "from sklearn.model_selection import train_test_split\n",
        "from sklearn.metrics import accuracy_score\n",
        "\n",
        "# Step 2: Dataset banayein (Custom Data)\n",
        "# Features: [Weight, Color Score]\n",
        "X = [\n",
        "    [150, 7],\n",
        "    [120, 4],\n",
        "    [170, 6],\n",
        "    [130, 3],\n",
        "    [140, 5],\n",
        "    [160, 7]\n",
        "]\n",
        "\n",
        "# Labels: Taste (converted to numbers)\n",
        "# Sweet = 0, Sour = 1, Neutral = 2\n",
        "y = [0, 1, 0, 1, 2, 0]\n",
        "\n",
        "# Step 3: Train/Test split\n",
        "X_train, X_test, y_train, y_test = train_test_split(X, y, test_size=0.3, random_state=1)\n",
        "\n",
        "# Step 4: Model create karein (K = 3)\n",
        "model = KNeighborsClassifier(n_neighbors=3)\n",
        "\n",
        "# Step 5: Train the model\n",
        "model.fit(X_train, y_train)\n",
        "\n",
        "# Step 6: Predict karo test data par\n",
        "y_pred = model.predict(X_test)\n",
        "\n",
        "# Step 7: Accuracy check karo\n",
        "accuracy = accuracy_score(y_test, y_pred)\n",
        "print(\"Model Accuracy:\", accuracy)\n",
        "\n",
        "# Step 8: New fruit ka taste predict karo\n",
        "new_fruit = [[145, 6]]  # weight=145, color score=6\n",
        "prediction = model.predict(new_fruit)\n",
        "\n",
        "# Taste ko text mein convert karo\n",
        "taste_labels = {0: \"Sweet\", 1: \"Sour\", 2: \"Neutral\"}\n",
        "print(\"Predicted Taste:\", taste_labels[prediction[0]])\n"
      ],
      "metadata": {
        "colab": {
          "base_uri": "https://localhost:8080/"
        },
        "id": "-k0F_gtFAiOL",
        "outputId": "e8c8d71a-2b58-4a2c-8649-33c9a58ff5a4"
      },
      "execution_count": 2,
      "outputs": [
        {
          "output_type": "stream",
          "name": "stdout",
          "text": [
            "Model Accuracy: 0.5\n",
            "Predicted Taste: Sweet\n"
          ]
        }
      ]
    },
    {
      "cell_type": "code",
      "source": [
        "new_fruit\n",
        "\n"
      ],
      "metadata": {
        "colab": {
          "base_uri": "https://localhost:8080/"
        },
        "id": "RTtGP2SXArH3",
        "outputId": "0de00885-5b13-4ad6-d4d7-b6a7f2d7a748"
      },
      "execution_count": 5,
      "outputs": [
        {
          "output_type": "execute_result",
          "data": {
            "text/plain": [
              "[[145, 6]]"
            ]
          },
          "metadata": {},
          "execution_count": 5
        }
      ]
    },
    {
      "cell_type": "code",
      "source": [
        "import matplotlib.pyplot as plt\n",
        "from sklearn.neighbors import KNeighborsClassifier\n",
        "from sklearn.model_selection import train_test_split\n",
        "import numpy as np\n",
        "\n",
        "# Step 1: Custom Data\n",
        "X = np.array([\n",
        "    [150, 7],\n",
        "    [120, 4],\n",
        "    [170, 6],\n",
        "    [130, 3],\n",
        "    [140, 5],\n",
        "    [160, 7]\n",
        "])\n",
        "y = np.array([0, 1, 0, 1, 2, 0])  # 0=Sweet, 1=Sour, 2=Neutral\n",
        "\n",
        "# Step 2: Train Model\n",
        "model = KNeighborsClassifier(n_neighbors=3)\n",
        "model.fit(X, y)\n",
        "\n",
        "# Step 3: Visualization (2D Plot)\n",
        "# Define color map\n",
        "colors = ['red', 'green', 'blue']  # 0=Sweet, 1=Sour, 2=Neutral\n",
        "\n",
        "# Plot training points\n",
        "for i in range(len(X)):\n",
        "    plt.scatter(X[i, 0], X[i, 1], color=colors[y[i]], label=f\"Class {y[i]}\" if i == y.tolist().index(y[i]) else \"\")\n",
        "\n",
        "# Step 4: Add New Point\n",
        "new_point = np.array([[135, 6]])\n",
        "predicted_class = model.predict(new_point)[0]\n",
        "\n",
        "plt.scatter(new_point[0][0], new_point[0][1], color=colors[predicted_class], marker='X', s=200, label='New Fruit')\n",
        "\n",
        "# Step 5: Labels\n",
        "plt.xlabel(\"Weight (grams)\")\n",
        "plt.ylabel(\"Color Score\")\n",
        "plt.title(\"KNN - Fruit Taste Prediction\")\n",
        "plt.legend()\n",
        "plt.grid(True)\n",
        "plt.show()\n"
      ],
      "metadata": {
        "colab": {
          "base_uri": "https://localhost:8080/",
          "height": 472
        },
        "id": "kG30xqzUCR1m",
        "outputId": "7b41e0bb-a492-4877-83a4-ec53b40b2234"
      },
      "execution_count": 7,
      "outputs": [
        {
          "output_type": "display_data",
          "data": {
            "text/plain": [
              "<Figure size 640x480 with 1 Axes>"
            ],
            "image/png": "[encoded data removed]"
          },
          "metadata": {}
        }
      ]
    }
  ]
}